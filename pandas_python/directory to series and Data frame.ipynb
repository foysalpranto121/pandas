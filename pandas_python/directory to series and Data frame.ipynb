{
 "cells": [
  {
   "cell_type": "markdown",
   "id": "4800539b",
   "metadata": {},
   "source": [
    "Dictonary to series And DATAFRAME"
   ]
  },
  {
   "cell_type": "code",
   "execution_count": 1,
   "id": "0705bcc7",
   "metadata": {},
   "outputs": [],
   "source": [
    "#crerate a dictionary \n",
    "\n",
    "data={\n",
    "\n",
    "'name':['rahim','karim','janant'],\n",
    "'Age':[22,34,33],\n",
    "'city':['DHAKA','MYM','RAJ']\n",
    "\n",
    "\n",
    "\n",
    "}"
   ]
  },
  {
   "cell_type": "code",
   "execution_count": 2,
   "id": "2343376e",
   "metadata": {},
   "outputs": [
    {
     "data": {
      "text/plain": [
       "{'name': ['rahim', 'karim', 'janant'],\n",
       " 'Age': [22, 34, 33],\n",
       " 'city': ['DHAKA', 'MYM', 'RAJ']}"
      ]
     },
     "execution_count": 2,
     "metadata": {},
     "output_type": "execute_result"
    }
   ],
   "source": [
    "data"
   ]
  },
  {
   "cell_type": "code",
   "execution_count": 4,
   "id": "e5a65018",
   "metadata": {},
   "outputs": [
    {
     "data": {
      "text/plain": [
       "0     rahim\n",
       "1     karim\n",
       "2    janant\n",
       "Name: Name, dtype: object"
      ]
     },
     "execution_count": 4,
     "metadata": {},
     "output_type": "execute_result"
    }
   ],
   "source": [
    "# create  a series from dictionary\n",
    "\n",
    "import pandas as pd\n",
    "name_series= pd.Series(data['name'],name='Name')\n",
    "name_series"
   ]
  },
  {
   "cell_type": "code",
   "execution_count": 5,
   "id": "c5dd2daa",
   "metadata": {},
   "outputs": [
    {
     "data": {
      "text/html": [
       "<div>\n",
       "<style scoped>\n",
       "    .dataframe tbody tr th:only-of-type {\n",
       "        vertical-align: middle;\n",
       "    }\n",
       "\n",
       "    .dataframe tbody tr th {\n",
       "        vertical-align: top;\n",
       "    }\n",
       "\n",
       "    .dataframe thead th {\n",
       "        text-align: right;\n",
       "    }\n",
       "</style>\n",
       "<table border=\"1\" class=\"dataframe\">\n",
       "  <thead>\n",
       "    <tr style=\"text-align: right;\">\n",
       "      <th></th>\n",
       "      <th>name</th>\n",
       "      <th>Age</th>\n",
       "      <th>city</th>\n",
       "    </tr>\n",
       "  </thead>\n",
       "  <tbody>\n",
       "    <tr>\n",
       "      <th>0</th>\n",
       "      <td>rahim</td>\n",
       "      <td>22</td>\n",
       "      <td>DHAKA</td>\n",
       "    </tr>\n",
       "    <tr>\n",
       "      <th>1</th>\n",
       "      <td>karim</td>\n",
       "      <td>34</td>\n",
       "      <td>MYM</td>\n",
       "    </tr>\n",
       "    <tr>\n",
       "      <th>2</th>\n",
       "      <td>janant</td>\n",
       "      <td>33</td>\n",
       "      <td>RAJ</td>\n",
       "    </tr>\n",
       "  </tbody>\n",
       "</table>\n",
       "</div>"
      ],
      "text/plain": [
       "     name  Age   city\n",
       "0   rahim   22  DHAKA\n",
       "1   karim   34    MYM\n",
       "2  janant   33    RAJ"
      ]
     },
     "execution_count": 5,
     "metadata": {},
     "output_type": "execute_result"
    }
   ],
   "source": [
    "df=pd.DataFrame(data)\n",
    "df"
   ]
  },
  {
   "cell_type": "code",
   "execution_count": 6,
   "id": "6d5ef3c6",
   "metadata": {},
   "outputs": [
    {
     "data": {
      "text/plain": [
       "0    22\n",
       "1    34\n",
       "2    33\n",
       "Name: Age, dtype: int64"
      ]
     },
     "execution_count": 6,
     "metadata": {},
     "output_type": "execute_result"
    }
   ],
   "source": [
    "age_series=df['Age']\n",
    "age_series"
   ]
  }
 ],
 "metadata": {
  "kernelspec": {
   "display_name": ".venv",
   "language": "python",
   "name": "python3"
  },
  "language_info": {
   "codemirror_mode": {
    "name": "ipython",
    "version": 3
   },
   "file_extension": ".py",
   "mimetype": "text/x-python",
   "name": "python",
   "nbconvert_exporter": "python",
   "pygments_lexer": "ipython3",
   "version": "3.12.8"
  }
 },
 "nbformat": 4,
 "nbformat_minor": 5
}
